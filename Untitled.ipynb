{
 "cells": [
  {
   "cell_type": "code",
   "execution_count": 23,
   "id": "d0e48869-e167-4959-b43a-588709d27152",
   "metadata": {},
   "outputs": [],
   "source": [
    "import numpy as np\n",
    "\n",
    "x = np.ones((3, 2))\n",
    "y = np.zeros((3, 2))"
   ]
  },
  {
   "cell_type": "code",
   "execution_count": 25,
   "id": "787992ea-894e-44c3-a537-fb68979772f4",
   "metadata": {},
   "outputs": [
    {
     "data": {
      "text/plain": [
       "True"
      ]
     },
     "execution_count": 25,
     "metadata": {},
     "output_type": "execute_result"
    }
   ],
   "source": [
    "(x == 1).all()"
   ]
  },
  {
   "cell_type": "code",
   "execution_count": 26,
   "id": "b51abbd5-2e01-4a5a-9fe3-23fa3bb6b715",
   "metadata": {},
   "outputs": [
    {
     "name": "stderr",
     "output_type": "stream",
     "text": [
      "/tmp/ipykernel_8699/1413760162.py:1: RuntimeWarning: divide by zero encountered in reciprocal\n",
      "  np.reciprocal(0)\n",
      "/tmp/ipykernel_8699/1413760162.py:1: RuntimeWarning: invalid value encountered in reciprocal\n",
      "  np.reciprocal(0)\n"
     ]
    },
    {
     "data": {
      "text/plain": [
       "-9223372036854775808"
      ]
     },
     "execution_count": 26,
     "metadata": {},
     "output_type": "execute_result"
    }
   ],
   "source": [
    "np.reciprocal(0)"
   ]
  },
  {
   "cell_type": "code",
   "execution_count": null,
   "id": "2ffc8dbc-c1b3-4e4a-99a7-6d8ebcd542c9",
   "metadata": {},
   "outputs": [],
   "source": []
  }
 ],
 "metadata": {
  "kernelspec": {
   "display_name": "Python 3 (ipykernel)",
   "language": "python",
   "name": "python3"
  },
  "language_info": {
   "codemirror_mode": {
    "name": "ipython",
    "version": 3
   },
   "file_extension": ".py",
   "mimetype": "text/x-python",
   "name": "python",
   "nbconvert_exporter": "python",
   "pygments_lexer": "ipython3",
   "version": "3.10.12"
  }
 },
 "nbformat": 4,
 "nbformat_minor": 5
}
