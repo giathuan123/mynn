{
 "cells": [
  {
   "cell_type": "code",
   "execution_count": 1,
   "id": "a2deb3e0-cbb6-4d73-a63f-868c114fb46e",
   "metadata": {},
   "outputs": [],
   "source": [
    "from OptTensor import OptTensor\n",
    "from BinaryCrossEntropyLoss import BinaryCrossEntropyLoss\n",
    "import numpy as np"
   ]
  },
  {
   "cell_type": "code",
   "execution_count": 2,
   "id": "61da9309-a291-42dd-8376-8f10e2e8c047",
   "metadata": {},
   "outputs": [],
   "source": [
    "from torch.utils.data import Dataset, random_split, DataLoader\n",
    "class MyDataset(Dataset):\n",
    "    def __init__(self, x, y):\n",
    "        self.x = x\n",
    "        self.y = y\n",
    "    def __getitem__(self, index):\n",
    "        sample = {\n",
    "            \"features\": self.x[index],\n",
    "            \"label\": self.y[index]\n",
    "        }\n",
    "        return sample\n",
    "    def __len__(self):\n",
    "        return len(self.x)"
   ]
  },
  {
   "cell_type": "code",
   "execution_count": 3,
   "id": "549aa863-b714-4282-aa4f-3ace87a80a07",
   "metadata": {},
   "outputs": [],
   "source": [
    "dim_in = 100\n",
    "dim_out = [5000, 300, 2]"
   ]
  },
  {
   "cell_type": "code",
   "execution_count": 4,
   "id": "34d80c0f-ea94-4139-897f-bb1c1f66758c",
   "metadata": {},
   "outputs": [],
   "source": [
    "encodings = {\n",
    "    'doc2vec': np.load('./data/d2v.npy'),\n",
    "    'bigram': np.load('./data/pca_bigram.npy'),\n",
    "    'tfidf': np.load('./data/pca_tfidf.npy'),\n",
    "    'sent2vec': np.load('./data/s2v.npy'),\n",
    "    'word2vec': np.load('./data/w2v.npy'),\n",
    "}\n",
    "labels = np.load('./data/label.npy')\n",
    "choices = np.random.choice(np.arange(0, encodings['tfidf'].shape[0]), size=5000, replace=False)"
   ]
  },
  {
   "cell_type": "code",
   "execution_count": 5,
   "id": "44207714-be06-4fef-9cc8-d86c319c07ad",
   "metadata": {},
   "outputs": [],
   "source": [
    "mydata = MyDataset(encodings['word2vec'][choices], labels[choices])\n",
    "loader = DataLoader(mydata, batch_size=1)\n",
    "linear1 = OptTensor(np.random.randn(100, 200))\n",
    "linear2 = OptTensor(np.random.randn(200, 30))\n",
    "linear3 = OptTensor(np.random.randn(30, 2))\n",
    "loss = BinaryCrossEntropyLoss()"
   ]
  },
  {
   "cell_type": "code",
   "execution_count": 6,
   "id": "1e0a5db6-3522-42e4-9145-6506bf1c3a6a",
   "metadata": {},
   "outputs": [
    {
     "name": "stdout",
     "output_type": "stream",
     "text": [
      "OptTensor((), backward_func=BinaryCrossEntropyLoss)\n",
      "OptTensor((1, 2), backward_func=Softmax)\n",
      "OptTensor((1, 2), backward_func=ReLU)\n",
      "OptTensor((1, 2), backward_func=MatMul)\n",
      "OptTensor((30, 2), backward_func=None)\n"
     ]
    }
   ],
   "source": [
    "for data in loader:\n",
    "    x = data['features'].numpy()\n",
    "    y = data['label'].numpy()\n",
    "    lr1 = linear1(x).relu()\n",
    "    lr2 = linear2(lr1).relu()\n",
    "    lr3 = linear3(lr2).relu()\n",
    "    probs = lr3.softmax(temperature=6)\n",
    "    current_loss = loss(probs, y)\n",
    "    current_loss.backward()\n",
    "    break"
   ]
  },
  {
   "cell_type": "code",
   "execution_count": 13,
   "id": "eb49a9b3-1835-4924-a8c0-0603ab6e9942",
   "metadata": {},
   "outputs": [
    {
     "data": {
      "text/plain": [
       "array([[ 0.        ,  0.        ,  0.        , ...,  0.40139982,\n",
       "         0.        ,  0.        ],\n",
       "       [ 0.        ,  0.        ,  0.        , ..., -0.06641238,\n",
       "         0.        ,  0.        ],\n",
       "       [ 0.        ,  0.        ,  0.        , ...,  0.09773739,\n",
       "         0.        ,  0.        ],\n",
       "       ...,\n",
       "       [ 0.        ,  0.        ,  0.        , ..., -0.3243181 ,\n",
       "         0.        ,  0.        ],\n",
       "       [ 0.        ,  0.        ,  0.        , ...,  0.08055662,\n",
       "         0.        ,  0.        ],\n",
       "       [ 0.        ,  0.        ,  0.        , ..., -0.2727769 ,\n",
       "         0.        ,  0.        ]])"
      ]
     },
     "execution_count": 13,
     "metadata": {},
     "output_type": "execute_result"
    }
   ],
   "source": [
    "linear1.grad, "
   ]
  },
  {
   "cell_type": "code",
   "execution_count": 14,
   "id": "df96643b-916e-4e2c-8f46-e343e8902482",
   "metadata": {},
   "outputs": [
    {
     "data": {
      "text/plain": [
       "array([[0., 0., 0., ..., 0., 0., 0.],\n",
       "       [0., 0., 0., ..., 0., 0., 0.],\n",
       "       [0., 0., 0., ..., 0., 0., 0.],\n",
       "       ...,\n",
       "       [0., 0., 0., ..., 0., 0., 0.],\n",
       "       [0., 0., 0., ..., 0., 0., 0.],\n",
       "       [0., 0., 0., ..., 0., 0., 0.]])"
      ]
     },
     "execution_count": 14,
     "metadata": {},
     "output_type": "execute_result"
    }
   ],
   "source": [
    "linear2.grad"
   ]
  },
  {
   "cell_type": "code",
   "execution_count": 12,
   "id": "55807afa-45fd-4d64-8eb6-5d0f638de519",
   "metadata": {},
   "outputs": [
    {
     "data": {
      "text/plain": [
       "array([[9988.14349318, 9988.14230777]])"
      ]
     },
     "execution_count": 12,
     "metadata": {},
     "output_type": "execute_result"
    }
   ],
   "source": [
    "lr3.grad"
   ]
  },
  {
   "cell_type": "code",
   "execution_count": null,
   "id": "9461abc9-7ba0-4a7a-9606-eea7344c68a2",
   "metadata": {},
   "outputs": [],
   "source": []
  }
 ],
 "metadata": {
  "kernelspec": {
   "display_name": "Python 3 (ipykernel)",
   "language": "python",
   "name": "python3"
  },
  "language_info": {
   "codemirror_mode": {
    "name": "ipython",
    "version": 3
   },
   "file_extension": ".py",
   "mimetype": "text/x-python",
   "name": "python",
   "nbconvert_exporter": "python",
   "pygments_lexer": "ipython3",
   "version": "3.10.12"
  }
 },
 "nbformat": 4,
 "nbformat_minor": 5
}
