{
 "cells": [
  {
   "cell_type": "code",
   "execution_count": 86,
   "id": "a2deb3e0-cbb6-4d73-a63f-868c114fb46e",
   "metadata": {},
   "outputs": [
    {
     "name": "stdout",
     "output_type": "stream",
     "text": [
      "The autoreload extension is already loaded. To reload it, use:\n",
      "  %reload_ext autoreload\n"
     ]
    }
   ],
   "source": [
    "from OptTensor import OptTensor\n",
    "from BinaryCrossEntropyLoss import BinaryCrossEntropyLoss\n",
    "import numpy as np\n",
    "from matplotlib import pyplot as plt\n",
    "%load_ext autoreload\n",
    "%autoreload 2"
   ]
  },
  {
   "cell_type": "code",
   "execution_count": 87,
   "id": "61da9309-a291-42dd-8376-8f10e2e8c047",
   "metadata": {},
   "outputs": [],
   "source": [
    "from torch.utils.data import Dataset, random_split, DataLoader\n",
    "class MyDataset(Dataset):\n",
    "    def __init__(self, x, y):\n",
    "        self.x = x\n",
    "        self.y = y\n",
    "    def __getitem__(self, index):\n",
    "        sample = {\n",
    "            \"features\": self.x[index],\n",
    "            \"label\": self.y[index]\n",
    "        }\n",
    "        return sample\n",
    "    def __len__(self):\n",
    "        return len(self.x)"
   ]
  },
  {
   "cell_type": "code",
   "execution_count": 88,
   "id": "549aa863-b714-4282-aa4f-3ace87a80a07",
   "metadata": {},
   "outputs": [],
   "source": [
    "dim_in = 100\n",
    "dim_out = [5000, 300, 2]"
   ]
  },
  {
   "cell_type": "code",
   "execution_count": 89,
   "id": "34d80c0f-ea94-4139-897f-bb1c1f66758c",
   "metadata": {},
   "outputs": [],
   "source": [
    "encodings = {\n",
    "    'doc2vec': np.load('./data/d2v.npy'),\n",
    "    'bigram': np.load('./data/pca_bigram.npy'),\n",
    "    'tfidf': np.load('./data/pca_tfidf.npy'),\n",
    "    'sent2vec': np.load('./data/s2v.npy'),\n",
    "    'word2vec': np.load('./data/w2v.npy'),\n",
    "}\n",
    "labels = np.load('./data/label.npy')\n",
    "choices = np.random.choice(np.arange(0, encodings['tfidf'].shape[0]), size=5000, replace=False)"
   ]
  },
  {
   "cell_type": "code",
   "execution_count": 124,
   "id": "44207714-be06-4fef-9cc8-d86c319c07ad",
   "metadata": {},
   "outputs": [],
   "source": [
    "def header(heading: str) -> str:\n",
    "    return '-'*4 + heading + '-'*5\n",
    "\n",
    "def intro(layername, data, grad):\n",
    "    print(header(f'{layername} data'))\n",
    "    print(data)\n",
    "    print(header(f'{layername} grad'))\n",
    "    print(grad)\n",
    "\n",
    "mydata = MyDataset(encodings['word2vec'][choices], labels[choices])\n",
    "loader = DataLoader(mydata, batch_size=4)\n",
    "linear1 = OptTensor(np.random.randn(100, 10), name='Linear1')\n",
    "linear2 = OptTensor(np.random.randn(10, 5), name='Linear2')\n",
    "linear3 = OptTensor(np.random.randn(5, 2), name='Linear3')\n",
    "loss = BinaryCrossEntropyLoss()"
   ]
  },
  {
   "cell_type": "code",
   "execution_count": 125,
   "metadata": {},
   "outputs": [
    {
     "name": "stdout",
     "output_type": "stream",
     "text": [
      "label [0 0 1 1]\n",
      "lr3 data\n",
      "[[-6.12291590e-01 -5.77960183e+05]\n",
      " [-1.50955313e+00 -3.73593097e+05]\n",
      " [-1.51627545e+00 -2.66193564e-01]\n",
      " [-2.77362582e-01 -1.25754310e+06]\n",
      " [ 1.10933730e+00 -1.45352358e-01]]\n",
      "lr3 grad\n",
      "[[0. 0.]\n",
      " [0. 0.]\n",
      " [0. 0.]\n",
      " [0. 0.]\n",
      " [0. 0.]]\n",
      "relu data \n",
      "[[0. 0.]\n",
      " [0. 0.]\n",
      " [0. 0.]\n",
      " [0. 0.]]\n",
      "probs data\n",
      "[[0.5 0.5]\n",
      " [0.5 0.5]\n",
      " [0.5 0.5]\n",
      " [0.5 0.5]]\n",
      "probs grad\n",
      "[[-2. -0.]\n",
      " [-2. -0.]\n",
      " [-0. -2.]\n",
      " [-0. -2.]]\n",
      "1 lr3 grad 0\n"
     ]
    }
   ],
   "source": [
    "learning_step = 0.0001\n",
    "losses = []\n",
    "total_loss = 0\n",
    "count = 0\n",
    "\n",
    "for data in loader:\n",
    "  x = data['features'].numpy()\n",
    "  y = data['label'].numpy()\n",
    "  linear1 = OptTensor(np.random.randn(100, 5000), name='Linear1')\n",
    "  linear2 = OptTensor(np.random.randn(5000, 300), name='Linear2')\n",
    "  linear3 = OptTensor(np.random.randn(300, 2), name='Linear3')\n",
    "  lr1 = linear1(x)\n",
    "  relu1 = lr1.relu()\n",
    "  lr2 = linear2(relu1).relu()\n",
    "  relu2 = lr2.relu()\n",
    "  lr3 = linear3(relu2).relu()\n",
    "  probs = lr3.softmax()\n",
    "  current_loss = loss(probs, y)\n",
    "  current_loss.backward()\n",
    "  if (linear3.grad==0).all():\n",
    "    print('label', y)\n",
    "    print('lr3 data')\n",
    "    print(linear3.data)\n",
    "    print('lr3 grad')\n",
    "    print(linear3.grad)\n",
    "    print('probs data')\n",
    "    print(probs.data)\n",
    "    print('probs grad')\n",
    "    print(probs.grad)\n",
    "    print(count, \"lr3 grad 0\")\n",
    "    break\n",
    "  linear1.data -= learning_step * linear1.grad\n",
    "  linear2.data -= learning_step * linear2.grad\n",
    "  linear3.data -= learning_step * linear3.grad\n",
    "  total_loss += current_loss.data\n",
    "  count += 1\n",
    "  losses.append (total_loss / count)"
   ]
  },
  {
   "cell_type": "code",
   "execution_count": 123,
   "id": "8c93c83e",
   "metadata": {},
   "outputs": [
    {
     "data": {
      "text/plain": [
       "[<matplotlib.lines.Line2D at 0x17b804a7a10>]"
      ]
     },
     "execution_count": 123,
     "metadata": {},
     "output_type": "execute_result"
    },
    {
     "data": {
      "image/png": "[encoded data removed]",
      "text/plain": [
       "<Figure size 640x480 with 1 Axes>"
      ]
     },
     "metadata": {},
     "output_type": "display_data"
    }
   ],
   "source": [
    "plt.plot(losses)"
   ]
  },
  {
   "cell_type": "code",
   "execution_count": null,
   "id": "61112907",
   "metadata": {},
   "outputs": [],
   "source": []
  }
 ],
 "metadata": {
  "kernelspec": {
   "display_name": "Python 3 (ipykernel)",
   "language": "python",
   "name": "python3"
  },
  "language_info": {
   "codemirror_mode": {
    "name": "ipython",
    "version": 3
   },
   "file_extension": ".py",
   "mimetype": "text/x-python",
   "name": "python",
   "nbconvert_exporter": "python",
   "pygments_lexer": "ipython3",
   "version": "3.11.3"
  }
 },
 "nbformat": 4,
 "nbformat_minor": 5
}
