{
 "cells": [
  {
   "cell_type": "code",
   "execution_count": 2,
   "id": "a2deb3e0-cbb6-4d73-a63f-868c114fb46e",
   "metadata": {},
   "outputs": [],
   "source": [
    "from OptTensor import OptTensor\n",
    "from BinaryCrossEntropyLoss import BinaryCrossEntropyLoss\n",
    "import numpy as np\n",
    "from matplotlib import pyplot as plt\n",
    "%load_ext autoreload\n",
    "%autoreload 2"
   ]
  },
  {
   "cell_type": "code",
   "execution_count": 3,
   "id": "61da9309-a291-42dd-8376-8f10e2e8c047",
   "metadata": {},
   "outputs": [],
   "source": [
    "from torch.utils.data import Dataset, random_split, DataLoader\n",
    "class MyDataset(Dataset):\n",
    "    def __init__(self, x, y):\n",
    "        self.x = x\n",
    "        self.y = y\n",
    "    def __getitem__(self, index):\n",
    "        sample = {\n",
    "            \"features\": self.x[index],\n",
    "            \"label\": self.y[index]\n",
    "        }\n",
    "        return sample\n",
    "    def __len__(self):\n",
    "        return len(self.x)"
   ]
  },
  {
   "cell_type": "code",
   "execution_count": 4,
   "id": "549aa863-b714-4282-aa4f-3ace87a80a07",
   "metadata": {},
   "outputs": [],
   "source": [
    "dim_in = 100\n",
    "dim_out = [5000, 300, 2]"
   ]
  },
  {
   "cell_type": "code",
   "execution_count": 5,
   "id": "34d80c0f-ea94-4139-897f-bb1c1f66758c",
   "metadata": {},
   "outputs": [],
   "source": [
    "encodings = {\n",
    "    'doc2vec': np.load('./data/d2v.npy'),\n",
    "    'bigram': np.load('./data/pca_bigram.npy'),\n",
    "    'tfidf': np.load('./data/pca_tfidf.npy'),\n",
    "    'sent2vec': np.load('./data/s2v.npy'),\n",
    "    'word2vec': np.load('./data/w2v.npy'),\n",
    "}\n",
    "labels = np.load('./data/label.npy')\n",
    "choices = np.random.choice(np.arange(0, encodings['tfidf'].shape[0]), size=5000, replace=False)"
   ]
  },
  {
   "cell_type": "code",
   "execution_count": 23,
   "id": "44207714-be06-4fef-9cc8-d86c319c07ad",
   "metadata": {},
   "outputs": [],
   "source": [
    "def header(heading: str) -> str:\n",
    "    return '-'*4 + heading + '-'*5\n",
    "\n",
    "def intro(layername, data, grad):\n",
    "    print(header(f'{layername} data'))\n",
    "    print(data)\n",
    "    print(header(f'{layername} grad'))\n",
    "    print(grad)\n",
    "\n",
    "mydata = MyDataset(encodings['word2vec'][choices], labels[choices])\n",
    "loader = DataLoader(mydata, batch_size=4)\n",
    "linear1 = OptTensor(np.random.randn(100, 10))\n",
    "linear2 = OptTensor(np.random.randn(10, 5))\n",
    "linear3 = OptTensor(np.random.randn(5, 2))\n",
    "loss = BinaryCrossEntropyLoss()"
   ]
  },
  {
   "cell_type": "code",
   "execution_count": 24,
   "metadata": {},
   "outputs": [],
   "source": [
    "learning_step = 0.0001\n",
    "losses = []\n",
    "data_iter = iter(loader)\n",
    "data = next(data_iter)"
   ]
  },
  {
   "cell_type": "code",
   "execution_count": 25,
   "id": "1e0a5db6-3522-42e4-9145-6506bf1c3a6a",
   "metadata": {},
   "outputs": [
    {
     "name": "stdout",
     "output_type": "stream",
     "text": [
      "current_labels [1 1 1 1]\n"
     ]
    }
   ],
   "source": [
    "x = data['features'].numpy()\n",
    "y = data['label'].numpy()\n",
    "print('current_labels', y)"
   ]
  },
  {
   "cell_type": "code",
   "execution_count": 26,
   "metadata": {},
   "outputs": [
    {
     "data": {
      "text/plain": [
       "0.7063497734311761"
      ]
     },
     "execution_count": 26,
     "metadata": {},
     "output_type": "execute_result"
    }
   ],
   "source": [
    "lr1 = linear1(x)\n",
    "relu1 = lr1.relu()\n",
    "lr2 = linear2(relu1).relu()\n",
    "relu2 = lr2.relu()\n",
    "lr3 = linear3(relu2).relu()\n",
    "relu3 = lr3.relu()\n",
    "probs = relu3.softmax(temperature=1000)\n",
    "current_loss = loss(probs, y)\n",
    "current_loss.backward()\n",
    "lr1.data -= learning_step * lr1.grad\n",
    "lr2.data -= learning_step * lr2.grad\n",
    "lr3.data -= learning_step * lr3.grad\n",
    "current_loss.data"
   ]
  },
  {
   "cell_type": "code",
   "execution_count": 27,
   "metadata": {},
   "outputs": [
    {
     "name": "stdout",
     "output_type": "stream",
     "text": [
      "----lr1-----\n",
      "[[ 6.25807609  4.28419693 -0.36452158 -1.81746562 -4.48174538 -6.00675018\n",
      "  -8.34381229 -6.70599973  5.40045223  2.57787236]\n",
      " [ 2.84002382 -1.36003246 -6.47156583 -2.98476361 -8.59985688 -0.78794719\n",
      "  -7.46760978 -8.76397994  6.81839787 -2.61832472]\n",
      " [ 4.00704915  1.98788014 -1.59186209  1.43881693 -1.15406523 -0.41316787\n",
      "  -3.87338969 -6.07594748  3.82904389  4.88647684]\n",
      " [ 1.68868859 -5.78642045  1.75742817 -1.24848944 -6.50074144  2.18706026\n",
      "  -0.85237329 -4.86325113  3.73226513 -1.19498366]]\n",
      "----relu1-----\n",
      "[[6.25849853 4.28416773 0.         0.         0.         0.\n",
      "  0.         0.         5.40066985 2.57785195]\n",
      " [2.84023112 0.         0.         0.         0.         0.\n",
      "  0.         0.         6.81877747 0.        ]\n",
      " [4.00746785 1.9878512  0.         1.43849551 0.         0.\n",
      "  0.         0.         3.82925959 4.88645661]\n",
      " [1.68890902 0.         1.75728574 0.         0.         2.18714629\n",
      "  0.         0.         3.732701   0.        ]]\n",
      "----lr2-----\n",
      "[[ 0.          0.66816756  0.          0.         15.84727419]\n",
      " [ 1.87463876  0.          0.          0.         14.09342289]\n",
      " [ 0.          1.08099973  0.          0.          7.39210625]\n",
      " [ 4.65949592  0.          2.19327601  0.         10.13761196]]\n",
      "----relu2-----\n",
      "[[ 0.          0.6684319   0.          0.         15.84749282]\n",
      " [ 1.87469376  0.          0.          0.         14.093641  ]\n",
      " [ 0.          1.08126173  0.          0.          7.39232295]\n",
      " [ 4.65955057  0.          2.19304122  0.         10.13782871]]\n",
      "----lr3-----\n",
      "[[35.75207307  0.        ]\n",
      " [31.26719875  0.        ]\n",
      " [18.67408964  0.        ]\n",
      " [19.18385288  0.        ]]\n",
      "----relu3-----\n",
      "[[35.75217492  0.        ]\n",
      " [31.26730036  0.        ]\n",
      " [18.6741906   0.        ]\n",
      " [19.18395385  0.        ]]\n",
      "----probs-----\n",
      "[[0.50893709 0.49106291]\n",
      " [0.50781619 0.49218381]\n",
      " [0.50466841 0.49533159]\n",
      " [0.50479584 0.49520416]]\n"
     ]
    }
   ],
   "source": [
    "# data\n",
    "print(header('lr1'))\n",
    "print(lr1.data)\n",
    "print(header('relu1'))\n",
    "print(relu1.data)\n",
    "print(header('lr2'))\n",
    "print(lr2.data)\n",
    "print(header('relu2'))\n",
    "print(relu2.data)\n",
    "print(header('lr3'))\n",
    "print(lr3.data)\n",
    "print(header('relu3'))\n",
    "print(relu3.data)\n",
    "print(header('probs'))\n",
    "print(probs.data)"
   ]
  },
  {
   "cell_type": "code",
   "execution_count": 29,
   "metadata": {},
   "outputs": [
    {
     "name": "stdout",
     "output_type": "stream",
     "text": [
      "----lr1 grad-----\n",
      "[[ 4.2243483  -0.29202355  0.         -0.         -0.          0.\n",
      "  -0.          0.          2.17629351 -0.20403274]\n",
      " [ 2.07300481  0.          0.         -0.         -0.          0.\n",
      "   0.          0.          3.79595819 -0.        ]\n",
      " [ 4.18697102 -0.28943971  0.         -3.21421575 -0.          0.\n",
      "  -0.          0.          2.15703754 -0.20222745]\n",
      " [ 2.20425266  0.         -1.42425438 -0.         -0.          0.86030182\n",
      "   0.         -0.          4.35876275 -0.        ]]\n",
      "----relu1 grad-----\n",
      "[[ 4.2243483  -0.29202355  1.353444   -3.2429092  -4.76690893  1.67485444\n",
      "  -2.8509284   0.79238716  2.17629351 -0.20403274]\n",
      " [ 2.07300481  0.75245202  1.51467951 -2.77176286 -1.04672067  1.98563307\n",
      "   0.99484806  0.11552939  3.79595819 -1.52754434]\n",
      " [ 4.18697102 -0.28943971  1.34146865 -3.21421575 -4.72473105  1.66003523\n",
      "  -2.82570323  0.78537607  2.15703754 -0.20222745]\n",
      " [ 2.20425266  3.54085758 -1.42425438 -1.66927827 -1.60677936  0.86030182\n",
      "   3.42535428 -0.43166776  4.35876275 -1.18473468]]\n",
      "----lr2 grad-----\n",
      "[[ 0.          2.64340495 -0.          0.          2.18631051]\n",
      " [ 0.54996393  0.         -0.          0.          2.18116759]\n",
      " [ 0.          2.62001595 -0.          0.          2.16696591]\n",
      " [ 0.54652633  0.         -2.34794083  0.          2.16753398]]\n",
      "----relu2 grad-----\n",
      "[[ 0.55126068  2.64340495 -2.36828015  0.20513149  2.18631051]\n",
      " [ 0.54996393  2.6371868  -2.36270917  0.20464895  2.18116759]\n",
      " [ 0.54638309  2.62001595 -2.34732547  0.20331648  2.16696591]\n",
      " [ 0.54652633  2.6207028  -2.34794083  0.20336978  2.16753398]]\n",
      "----lr3 grad-----\n",
      "[[1.01852479 0.        ]\n",
      " [1.01612888 0.        ]\n",
      " [1.00951282 0.        ]\n",
      " [1.00977747 0.        ]]\n",
      "----relu3 grad-----\n",
      "[[1.01852479 0.01852479]\n",
      " [1.01612888 0.01612888]\n",
      " [1.00951282 0.00951282]\n",
      " [1.00977747 0.00977747]]\n",
      "----probs grad-----\n",
      "[[-0.         -2.03639897]\n",
      " [-0.         -2.03176126]\n",
      " [-0.         -2.01884964]\n",
      " [-0.         -2.01936915]]\n"
     ]
    }
   ],
   "source": [
    "# grad\n",
    "print(header('lr1 grad'))\n",
    "print(lr1.grad)\n",
    "print(header('relu1 grad'))\n",
    "print(relu1.grad)\n",
    "print(header('lr2 grad'))\n",
    "print(lr2.grad)\n",
    "print(header('relu2 grad'))\n",
    "print(relu2.grad)\n",
    "print(header('lr3 grad'))\n",
    "print(lr3.grad)\n",
    "print(header('relu3 grad'))\n",
    "print(relu3.grad)\n",
    "print(header('probs grad'))\n",
    "print(probs.grad)"
   ]
  },
  {
   "cell_type": "code",
   "execution_count": null,
   "metadata": {},
   "outputs": [],
   "source": []
  }
 ],
 "metadata": {
  "kernelspec": {
   "display_name": "Python 3 (ipykernel)",
   "language": "python",
   "name": "python3"
  },
  "language_info": {
   "codemirror_mode": {
    "name": "ipython",
    "version": 3
   },
   "file_extension": ".py",
   "mimetype": "text/x-python",
   "name": "python",
   "nbconvert_exporter": "python",
   "pygments_lexer": "ipython3",
   "version": "3.11.3"
  }
 },
 "nbformat": 4,
 "nbformat_minor": 5
}
